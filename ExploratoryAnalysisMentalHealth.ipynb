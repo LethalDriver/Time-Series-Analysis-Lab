{
 "cells": [
  {
   "cell_type": "code",
   "execution_count": 57,
   "id": "initial_id",
   "metadata": {
    "collapsed": true,
    "ExecuteTime": {
     "end_time": "2024-03-01T07:39:43.072472Z",
     "start_time": "2024-03-01T07:39:43.069370Z"
    }
   },
   "outputs": [],
   "source": [
    "import pandas as pd;"
   ]
  },
  {
   "cell_type": "code",
   "outputs": [],
   "source": [
    "df = pd.read_csv('Data Carrard et al. 2022 MedTeach.csv');"
   ],
   "metadata": {
    "collapsed": false,
    "ExecuteTime": {
     "end_time": "2024-03-01T07:39:43.101211Z",
     "start_time": "2024-03-01T07:39:43.094313Z"
    }
   },
   "id": "55b397d389c99527",
   "execution_count": 58
  },
  {
   "cell_type": "code",
   "outputs": [
    {
     "data": {
      "text/plain": "   id  age  year  sex  glang  part  job  stud_h  health  psyt  jspe  qcae_cog  \\\n0   2   18     1    1    120     1    0      56       3     0    88        62   \n1   4   26     4    1      1     1    0      20       4     0   109        55   \n2   9   21     3    2      1     0    0      36       3     0   106        64   \n3  10   21     2    2      1     0    1      51       5     0   101        52   \n4  13   21     3    1      1     1    0      22       4     0   102        58   \n\n   qcae_aff  amsp  erec_mean  cesd  stai_t  mbi_ex  mbi_cy  mbi_ea  \n0        27    17   0.738095    34      61      17      13      20  \n1        37    22   0.690476     7      33      14      11      26  \n2        39    17   0.690476    25      73      24       7      23  \n3        33    18   0.833333    17      48      16      10      21  \n4        28    21   0.690476    14      46      22      14      23  ",
      "text/html": "<div>\n<style scoped>\n    .dataframe tbody tr th:only-of-type {\n        vertical-align: middle;\n    }\n\n    .dataframe tbody tr th {\n        vertical-align: top;\n    }\n\n    .dataframe thead th {\n        text-align: right;\n    }\n</style>\n<table border=\"1\" class=\"dataframe\">\n  <thead>\n    <tr style=\"text-align: right;\">\n      <th></th>\n      <th>id</th>\n      <th>age</th>\n      <th>year</th>\n      <th>sex</th>\n      <th>glang</th>\n      <th>part</th>\n      <th>job</th>\n      <th>stud_h</th>\n      <th>health</th>\n      <th>psyt</th>\n      <th>jspe</th>\n      <th>qcae_cog</th>\n      <th>qcae_aff</th>\n      <th>amsp</th>\n      <th>erec_mean</th>\n      <th>cesd</th>\n      <th>stai_t</th>\n      <th>mbi_ex</th>\n      <th>mbi_cy</th>\n      <th>mbi_ea</th>\n    </tr>\n  </thead>\n  <tbody>\n    <tr>\n      <th>0</th>\n      <td>2</td>\n      <td>18</td>\n      <td>1</td>\n      <td>1</td>\n      <td>120</td>\n      <td>1</td>\n      <td>0</td>\n      <td>56</td>\n      <td>3</td>\n      <td>0</td>\n      <td>88</td>\n      <td>62</td>\n      <td>27</td>\n      <td>17</td>\n      <td>0.738095</td>\n      <td>34</td>\n      <td>61</td>\n      <td>17</td>\n      <td>13</td>\n      <td>20</td>\n    </tr>\n    <tr>\n      <th>1</th>\n      <td>4</td>\n      <td>26</td>\n      <td>4</td>\n      <td>1</td>\n      <td>1</td>\n      <td>1</td>\n      <td>0</td>\n      <td>20</td>\n      <td>4</td>\n      <td>0</td>\n      <td>109</td>\n      <td>55</td>\n      <td>37</td>\n      <td>22</td>\n      <td>0.690476</td>\n      <td>7</td>\n      <td>33</td>\n      <td>14</td>\n      <td>11</td>\n      <td>26</td>\n    </tr>\n    <tr>\n      <th>2</th>\n      <td>9</td>\n      <td>21</td>\n      <td>3</td>\n      <td>2</td>\n      <td>1</td>\n      <td>0</td>\n      <td>0</td>\n      <td>36</td>\n      <td>3</td>\n      <td>0</td>\n      <td>106</td>\n      <td>64</td>\n      <td>39</td>\n      <td>17</td>\n      <td>0.690476</td>\n      <td>25</td>\n      <td>73</td>\n      <td>24</td>\n      <td>7</td>\n      <td>23</td>\n    </tr>\n    <tr>\n      <th>3</th>\n      <td>10</td>\n      <td>21</td>\n      <td>2</td>\n      <td>2</td>\n      <td>1</td>\n      <td>0</td>\n      <td>1</td>\n      <td>51</td>\n      <td>5</td>\n      <td>0</td>\n      <td>101</td>\n      <td>52</td>\n      <td>33</td>\n      <td>18</td>\n      <td>0.833333</td>\n      <td>17</td>\n      <td>48</td>\n      <td>16</td>\n      <td>10</td>\n      <td>21</td>\n    </tr>\n    <tr>\n      <th>4</th>\n      <td>13</td>\n      <td>21</td>\n      <td>3</td>\n      <td>1</td>\n      <td>1</td>\n      <td>1</td>\n      <td>0</td>\n      <td>22</td>\n      <td>4</td>\n      <td>0</td>\n      <td>102</td>\n      <td>58</td>\n      <td>28</td>\n      <td>21</td>\n      <td>0.690476</td>\n      <td>14</td>\n      <td>46</td>\n      <td>22</td>\n      <td>14</td>\n      <td>23</td>\n    </tr>\n  </tbody>\n</table>\n</div>"
     },
     "execution_count": 59,
     "metadata": {},
     "output_type": "execute_result"
    }
   ],
   "source": [
    "df.head()"
   ],
   "metadata": {
    "collapsed": false,
    "ExecuteTime": {
     "end_time": "2024-03-01T07:39:43.128899Z",
     "start_time": "2024-03-01T07:39:43.119913Z"
    }
   },
   "id": "412394733c2793d4",
   "execution_count": 59
  },
  {
   "cell_type": "code",
   "outputs": [
    {
     "data": {
      "text/plain": "                id         age        year         sex       glang  \\\ncount   886.000000  886.000000  886.000000  886.000000  886.000000   \nmean    889.709932   22.383747    3.102709    1.695260   14.327314   \nstd     515.555875    3.300664    1.763937    0.472665   32.366389   \nmin       2.000000   17.000000    1.000000    1.000000    1.000000   \n25%     447.500000   20.000000    1.000000    1.000000    1.000000   \n50%     876.000000   22.000000    3.000000    2.000000    1.000000   \n75%    1341.750000   24.000000    5.000000    2.000000    1.000000   \nmax    1790.000000   49.000000    6.000000    3.000000  121.000000   \n\n             part         job      stud_h      health        psyt        jspe  \\\ncount  886.000000  886.000000  886.000000  886.000000  886.000000  886.000000   \nmean     0.563205    0.348758   25.288939    3.777652    0.224605  106.374718   \nstd      0.496269    0.476847   15.927875    1.061497    0.417558    8.784012   \nmin      0.000000    0.000000    0.000000    1.000000    0.000000   67.000000   \n25%      0.000000    0.000000   12.000000    3.000000    0.000000  101.000000   \n50%      1.000000    0.000000   25.000000    4.000000    0.000000  107.000000   \n75%      1.000000    1.000000   36.000000    5.000000    0.000000  113.000000   \nmax      1.000000    1.000000   70.000000    5.000000    1.000000  125.000000   \n\n         qcae_cog    qcae_aff        amsp   erec_mean        cesd      stai_t  \\\ncount  886.000000  886.000000  886.000000  886.000000  886.000000  886.000000   \nmean    58.525959   34.784424   23.150113    0.720144   18.050790   42.898420   \nstd      6.570341    5.377062    4.993220    0.093570   11.478731   11.978458   \nmin     37.000000   18.000000    6.000000    0.357143    0.000000   20.000000   \n25%     54.000000   31.000000   20.000000    0.666667    9.000000   34.000000   \n50%     58.000000   35.000000   23.000000    0.726190   16.000000   43.000000   \n75%     63.000000   39.000000   26.750000    0.785714   25.000000   51.000000   \nmax     76.000000   48.000000   35.000000    0.952381   56.000000   77.000000   \n\n           mbi_ex      mbi_cy      mbi_ea  \ncount  886.000000  886.000000  886.000000  \nmean    16.878104   10.079007   24.207675  \nstd      5.256025    4.592609    4.633675  \nmin      5.000000    4.000000   10.000000  \n25%     13.000000    6.000000   21.000000  \n50%     17.000000    9.000000   24.000000  \n75%     20.000000   13.000000   28.000000  \nmax     30.000000   24.000000   36.000000  ",
      "text/html": "<div>\n<style scoped>\n    .dataframe tbody tr th:only-of-type {\n        vertical-align: middle;\n    }\n\n    .dataframe tbody tr th {\n        vertical-align: top;\n    }\n\n    .dataframe thead th {\n        text-align: right;\n    }\n</style>\n<table border=\"1\" class=\"dataframe\">\n  <thead>\n    <tr style=\"text-align: right;\">\n      <th></th>\n      <th>id</th>\n      <th>age</th>\n      <th>year</th>\n      <th>sex</th>\n      <th>glang</th>\n      <th>part</th>\n      <th>job</th>\n      <th>stud_h</th>\n      <th>health</th>\n      <th>psyt</th>\n      <th>jspe</th>\n      <th>qcae_cog</th>\n      <th>qcae_aff</th>\n      <th>amsp</th>\n      <th>erec_mean</th>\n      <th>cesd</th>\n      <th>stai_t</th>\n      <th>mbi_ex</th>\n      <th>mbi_cy</th>\n      <th>mbi_ea</th>\n    </tr>\n  </thead>\n  <tbody>\n    <tr>\n      <th>count</th>\n      <td>886.000000</td>\n      <td>886.000000</td>\n      <td>886.000000</td>\n      <td>886.000000</td>\n      <td>886.000000</td>\n      <td>886.000000</td>\n      <td>886.000000</td>\n      <td>886.000000</td>\n      <td>886.000000</td>\n      <td>886.000000</td>\n      <td>886.000000</td>\n      <td>886.000000</td>\n      <td>886.000000</td>\n      <td>886.000000</td>\n      <td>886.000000</td>\n      <td>886.000000</td>\n      <td>886.000000</td>\n      <td>886.000000</td>\n      <td>886.000000</td>\n      <td>886.000000</td>\n    </tr>\n    <tr>\n      <th>mean</th>\n      <td>889.709932</td>\n      <td>22.383747</td>\n      <td>3.102709</td>\n      <td>1.695260</td>\n      <td>14.327314</td>\n      <td>0.563205</td>\n      <td>0.348758</td>\n      <td>25.288939</td>\n      <td>3.777652</td>\n      <td>0.224605</td>\n      <td>106.374718</td>\n      <td>58.525959</td>\n      <td>34.784424</td>\n      <td>23.150113</td>\n      <td>0.720144</td>\n      <td>18.050790</td>\n      <td>42.898420</td>\n      <td>16.878104</td>\n      <td>10.079007</td>\n      <td>24.207675</td>\n    </tr>\n    <tr>\n      <th>std</th>\n      <td>515.555875</td>\n      <td>3.300664</td>\n      <td>1.763937</td>\n      <td>0.472665</td>\n      <td>32.366389</td>\n      <td>0.496269</td>\n      <td>0.476847</td>\n      <td>15.927875</td>\n      <td>1.061497</td>\n      <td>0.417558</td>\n      <td>8.784012</td>\n      <td>6.570341</td>\n      <td>5.377062</td>\n      <td>4.993220</td>\n      <td>0.093570</td>\n      <td>11.478731</td>\n      <td>11.978458</td>\n      <td>5.256025</td>\n      <td>4.592609</td>\n      <td>4.633675</td>\n    </tr>\n    <tr>\n      <th>min</th>\n      <td>2.000000</td>\n      <td>17.000000</td>\n      <td>1.000000</td>\n      <td>1.000000</td>\n      <td>1.000000</td>\n      <td>0.000000</td>\n      <td>0.000000</td>\n      <td>0.000000</td>\n      <td>1.000000</td>\n      <td>0.000000</td>\n      <td>67.000000</td>\n      <td>37.000000</td>\n      <td>18.000000</td>\n      <td>6.000000</td>\n      <td>0.357143</td>\n      <td>0.000000</td>\n      <td>20.000000</td>\n      <td>5.000000</td>\n      <td>4.000000</td>\n      <td>10.000000</td>\n    </tr>\n    <tr>\n      <th>25%</th>\n      <td>447.500000</td>\n      <td>20.000000</td>\n      <td>1.000000</td>\n      <td>1.000000</td>\n      <td>1.000000</td>\n      <td>0.000000</td>\n      <td>0.000000</td>\n      <td>12.000000</td>\n      <td>3.000000</td>\n      <td>0.000000</td>\n      <td>101.000000</td>\n      <td>54.000000</td>\n      <td>31.000000</td>\n      <td>20.000000</td>\n      <td>0.666667</td>\n      <td>9.000000</td>\n      <td>34.000000</td>\n      <td>13.000000</td>\n      <td>6.000000</td>\n      <td>21.000000</td>\n    </tr>\n    <tr>\n      <th>50%</th>\n      <td>876.000000</td>\n      <td>22.000000</td>\n      <td>3.000000</td>\n      <td>2.000000</td>\n      <td>1.000000</td>\n      <td>1.000000</td>\n      <td>0.000000</td>\n      <td>25.000000</td>\n      <td>4.000000</td>\n      <td>0.000000</td>\n      <td>107.000000</td>\n      <td>58.000000</td>\n      <td>35.000000</td>\n      <td>23.000000</td>\n      <td>0.726190</td>\n      <td>16.000000</td>\n      <td>43.000000</td>\n      <td>17.000000</td>\n      <td>9.000000</td>\n      <td>24.000000</td>\n    </tr>\n    <tr>\n      <th>75%</th>\n      <td>1341.750000</td>\n      <td>24.000000</td>\n      <td>5.000000</td>\n      <td>2.000000</td>\n      <td>1.000000</td>\n      <td>1.000000</td>\n      <td>1.000000</td>\n      <td>36.000000</td>\n      <td>5.000000</td>\n      <td>0.000000</td>\n      <td>113.000000</td>\n      <td>63.000000</td>\n      <td>39.000000</td>\n      <td>26.750000</td>\n      <td>0.785714</td>\n      <td>25.000000</td>\n      <td>51.000000</td>\n      <td>20.000000</td>\n      <td>13.000000</td>\n      <td>28.000000</td>\n    </tr>\n    <tr>\n      <th>max</th>\n      <td>1790.000000</td>\n      <td>49.000000</td>\n      <td>6.000000</td>\n      <td>3.000000</td>\n      <td>121.000000</td>\n      <td>1.000000</td>\n      <td>1.000000</td>\n      <td>70.000000</td>\n      <td>5.000000</td>\n      <td>1.000000</td>\n      <td>125.000000</td>\n      <td>76.000000</td>\n      <td>48.000000</td>\n      <td>35.000000</td>\n      <td>0.952381</td>\n      <td>56.000000</td>\n      <td>77.000000</td>\n      <td>30.000000</td>\n      <td>24.000000</td>\n      <td>36.000000</td>\n    </tr>\n  </tbody>\n</table>\n</div>"
     },
     "execution_count": 60,
     "metadata": {},
     "output_type": "execute_result"
    }
   ],
   "source": [
    "df.describe()"
   ],
   "metadata": {
    "collapsed": false,
    "ExecuteTime": {
     "end_time": "2024-03-01T07:39:43.160845Z",
     "start_time": "2024-03-01T07:39:43.130007Z"
    }
   },
   "id": "9c5a207eb9057224",
   "execution_count": 60
  },
  {
   "cell_type": "code",
   "outputs": [
    {
     "data": {
      "text/plain": "<pandas.core.groupby.generic.DataFrameGroupBy object at 0x0000021984F4F790>"
     },
     "execution_count": 70,
     "metadata": {},
     "output_type": "execute_result"
    }
   ],
   "source": [
    "replace_values = {1: 'male', 2: 'female', 3: 'non-binary'}\n",
    "df['sex'] = df['sex'].replace(replace_values)\n",
    "\n",
    "grouped = df.groupby(df['sex'])"
   ],
   "metadata": {
    "collapsed": false,
    "ExecuteTime": {
     "end_time": "2024-03-01T07:45:58.830993Z",
     "start_time": "2024-03-01T07:45:58.822246Z"
    }
   },
   "id": "da4b26c824c6f9d4",
   "execution_count": 70
  },
  {
   "cell_type": "code",
   "outputs": [
    {
     "data": {
      "text/plain": "sex        female        male  non-binary\ncount  606.000000  275.000000         5.0\nmean    17.457096   15.618182        16.0\nstd      5.139441    5.255831         8.0\nmin      5.000000    5.000000         9.0\n25%     14.000000   12.000000        11.0\n50%     17.000000   16.000000        11.0\n75%     21.000000   19.000000        22.0\nmax     30.000000   30.000000        27.0",
      "text/html": "<div>\n<style scoped>\n    .dataframe tbody tr th:only-of-type {\n        vertical-align: middle;\n    }\n\n    .dataframe tbody tr th {\n        vertical-align: top;\n    }\n\n    .dataframe thead th {\n        text-align: right;\n    }\n</style>\n<table border=\"1\" class=\"dataframe\">\n  <thead>\n    <tr style=\"text-align: right;\">\n      <th>sex</th>\n      <th>female</th>\n      <th>male</th>\n      <th>non-binary</th>\n    </tr>\n  </thead>\n  <tbody>\n    <tr>\n      <th>count</th>\n      <td>606.000000</td>\n      <td>275.000000</td>\n      <td>5.0</td>\n    </tr>\n    <tr>\n      <th>mean</th>\n      <td>17.457096</td>\n      <td>15.618182</td>\n      <td>16.0</td>\n    </tr>\n    <tr>\n      <th>std</th>\n      <td>5.139441</td>\n      <td>5.255831</td>\n      <td>8.0</td>\n    </tr>\n    <tr>\n      <th>min</th>\n      <td>5.000000</td>\n      <td>5.000000</td>\n      <td>9.0</td>\n    </tr>\n    <tr>\n      <th>25%</th>\n      <td>14.000000</td>\n      <td>12.000000</td>\n      <td>11.0</td>\n    </tr>\n    <tr>\n      <th>50%</th>\n      <td>17.000000</td>\n      <td>16.000000</td>\n      <td>11.0</td>\n    </tr>\n    <tr>\n      <th>75%</th>\n      <td>21.000000</td>\n      <td>19.000000</td>\n      <td>22.0</td>\n    </tr>\n    <tr>\n      <th>max</th>\n      <td>30.000000</td>\n      <td>30.000000</td>\n      <td>27.0</td>\n    </tr>\n  </tbody>\n</table>\n</div>"
     },
     "execution_count": 68,
     "metadata": {},
     "output_type": "execute_result"
    }
   ],
   "source": [
    "grouped['mbi_ex'].describe().transpose()"
   ],
   "metadata": {
    "collapsed": false,
    "ExecuteTime": {
     "end_time": "2024-03-01T07:44:18.495849Z",
     "start_time": "2024-03-01T07:44:18.480772Z"
    }
   },
   "id": "d3098e507f30e1e6",
   "execution_count": 68
  },
  {
   "cell_type": "code",
   "outputs": [
    {
     "data": {
      "text/plain": "sex        female        male  non-binary\ncount  606.000000  275.000000     5.00000\nmean     3.722772    3.909091     3.20000\nstd      1.037659    1.095324     1.48324\nmin      1.000000    1.000000     1.00000\n25%      3.000000    4.000000     3.00000\n50%      4.000000    4.000000     3.00000\n75%      4.000000    5.000000     4.00000\nmax      5.000000    5.000000     5.00000",
      "text/html": "<div>\n<style scoped>\n    .dataframe tbody tr th:only-of-type {\n        vertical-align: middle;\n    }\n\n    .dataframe tbody tr th {\n        vertical-align: top;\n    }\n\n    .dataframe thead th {\n        text-align: right;\n    }\n</style>\n<table border=\"1\" class=\"dataframe\">\n  <thead>\n    <tr style=\"text-align: right;\">\n      <th>sex</th>\n      <th>female</th>\n      <th>male</th>\n      <th>non-binary</th>\n    </tr>\n  </thead>\n  <tbody>\n    <tr>\n      <th>count</th>\n      <td>606.000000</td>\n      <td>275.000000</td>\n      <td>5.00000</td>\n    </tr>\n    <tr>\n      <th>mean</th>\n      <td>3.722772</td>\n      <td>3.909091</td>\n      <td>3.20000</td>\n    </tr>\n    <tr>\n      <th>std</th>\n      <td>1.037659</td>\n      <td>1.095324</td>\n      <td>1.48324</td>\n    </tr>\n    <tr>\n      <th>min</th>\n      <td>1.000000</td>\n      <td>1.000000</td>\n      <td>1.00000</td>\n    </tr>\n    <tr>\n      <th>25%</th>\n      <td>3.000000</td>\n      <td>4.000000</td>\n      <td>3.00000</td>\n    </tr>\n    <tr>\n      <th>50%</th>\n      <td>4.000000</td>\n      <td>4.000000</td>\n      <td>3.00000</td>\n    </tr>\n    <tr>\n      <th>75%</th>\n      <td>4.000000</td>\n      <td>5.000000</td>\n      <td>4.00000</td>\n    </tr>\n    <tr>\n      <th>max</th>\n      <td>5.000000</td>\n      <td>5.000000</td>\n      <td>5.00000</td>\n    </tr>\n  </tbody>\n</table>\n</div>"
     },
     "execution_count": 69,
     "metadata": {},
     "output_type": "execute_result"
    }
   ],
   "source": [
    "grouped['health'].describe().transpose()"
   ],
   "metadata": {
    "collapsed": false,
    "ExecuteTime": {
     "end_time": "2024-03-01T07:44:34.361876Z",
     "start_time": "2024-03-01T07:44:34.346802Z"
    }
   },
   "id": "d18f311b7831c94f",
   "execution_count": 69
  },
  {
   "cell_type": "code",
   "outputs": [
    {
     "data": {
      "text/plain": "sex        female        male  non-binary\ncount  606.000000  275.000000    5.000000\nmean     0.270627    0.123636    0.200000\nstd      0.444651    0.329766    0.447214\nmin      0.000000    0.000000    0.000000\n25%      0.000000    0.000000    0.000000\n50%      0.000000    0.000000    0.000000\n75%      1.000000    0.000000    0.000000\nmax      1.000000    1.000000    1.000000",
      "text/html": "<div>\n<style scoped>\n    .dataframe tbody tr th:only-of-type {\n        vertical-align: middle;\n    }\n\n    .dataframe tbody tr th {\n        vertical-align: top;\n    }\n\n    .dataframe thead th {\n        text-align: right;\n    }\n</style>\n<table border=\"1\" class=\"dataframe\">\n  <thead>\n    <tr style=\"text-align: right;\">\n      <th>sex</th>\n      <th>female</th>\n      <th>male</th>\n      <th>non-binary</th>\n    </tr>\n  </thead>\n  <tbody>\n    <tr>\n      <th>count</th>\n      <td>606.000000</td>\n      <td>275.000000</td>\n      <td>5.000000</td>\n    </tr>\n    <tr>\n      <th>mean</th>\n      <td>0.270627</td>\n      <td>0.123636</td>\n      <td>0.200000</td>\n    </tr>\n    <tr>\n      <th>std</th>\n      <td>0.444651</td>\n      <td>0.329766</td>\n      <td>0.447214</td>\n    </tr>\n    <tr>\n      <th>min</th>\n      <td>0.000000</td>\n      <td>0.000000</td>\n      <td>0.000000</td>\n    </tr>\n    <tr>\n      <th>25%</th>\n      <td>0.000000</td>\n      <td>0.000000</td>\n      <td>0.000000</td>\n    </tr>\n    <tr>\n      <th>50%</th>\n      <td>0.000000</td>\n      <td>0.000000</td>\n      <td>0.000000</td>\n    </tr>\n    <tr>\n      <th>75%</th>\n      <td>1.000000</td>\n      <td>0.000000</td>\n      <td>0.000000</td>\n    </tr>\n    <tr>\n      <th>max</th>\n      <td>1.000000</td>\n      <td>1.000000</td>\n      <td>1.000000</td>\n    </tr>\n  </tbody>\n</table>\n</div>"
     },
     "execution_count": 71,
     "metadata": {},
     "output_type": "execute_result"
    }
   ],
   "source": [
    "grouped['psyt'].describe().transpose()"
   ],
   "metadata": {
    "collapsed": false,
    "ExecuteTime": {
     "end_time": "2024-03-01T07:46:19.190368Z",
     "start_time": "2024-03-01T07:46:19.175783Z"
    }
   },
   "id": "bcb0d622db1d4b62",
   "execution_count": 71
  },
  {
   "cell_type": "code",
   "outputs": [
    {
     "data": {
      "text/plain": "sex        female        male  non-binary\ncount  606.000000  275.000000         5.0\nmean     0.572607    0.552727         0.0\nstd      0.495109    0.498119         0.0\nmin      0.000000    0.000000         0.0\n25%      0.000000    0.000000         0.0\n50%      1.000000    1.000000         0.0\n75%      1.000000    1.000000         0.0\nmax      1.000000    1.000000         0.0",
      "text/html": "<div>\n<style scoped>\n    .dataframe tbody tr th:only-of-type {\n        vertical-align: middle;\n    }\n\n    .dataframe tbody tr th {\n        vertical-align: top;\n    }\n\n    .dataframe thead th {\n        text-align: right;\n    }\n</style>\n<table border=\"1\" class=\"dataframe\">\n  <thead>\n    <tr style=\"text-align: right;\">\n      <th>sex</th>\n      <th>female</th>\n      <th>male</th>\n      <th>non-binary</th>\n    </tr>\n  </thead>\n  <tbody>\n    <tr>\n      <th>count</th>\n      <td>606.000000</td>\n      <td>275.000000</td>\n      <td>5.0</td>\n    </tr>\n    <tr>\n      <th>mean</th>\n      <td>0.572607</td>\n      <td>0.552727</td>\n      <td>0.0</td>\n    </tr>\n    <tr>\n      <th>std</th>\n      <td>0.495109</td>\n      <td>0.498119</td>\n      <td>0.0</td>\n    </tr>\n    <tr>\n      <th>min</th>\n      <td>0.000000</td>\n      <td>0.000000</td>\n      <td>0.0</td>\n    </tr>\n    <tr>\n      <th>25%</th>\n      <td>0.000000</td>\n      <td>0.000000</td>\n      <td>0.0</td>\n    </tr>\n    <tr>\n      <th>50%</th>\n      <td>1.000000</td>\n      <td>1.000000</td>\n      <td>0.0</td>\n    </tr>\n    <tr>\n      <th>75%</th>\n      <td>1.000000</td>\n      <td>1.000000</td>\n      <td>0.0</td>\n    </tr>\n    <tr>\n      <th>max</th>\n      <td>1.000000</td>\n      <td>1.000000</td>\n      <td>0.0</td>\n    </tr>\n  </tbody>\n</table>\n</div>"
     },
     "execution_count": 73,
     "metadata": {},
     "output_type": "execute_result"
    }
   ],
   "source": [
    "grouped['part'].describe().transpose()"
   ],
   "metadata": {
    "collapsed": false,
    "ExecuteTime": {
     "end_time": "2024-03-01T07:48:00.897230Z",
     "start_time": "2024-03-01T07:48:00.883204Z"
    }
   },
   "id": "43725dc910acaea7",
   "execution_count": 73
  },
  {
   "cell_type": "code",
   "outputs": [
    {
     "data": {
      "text/plain": "sex        female        male  non-binary\ncount  606.000000  275.000000    5.000000\nmean     0.354785    0.334545    0.400000\nstd      0.478844    0.472692    0.547723\nmin      0.000000    0.000000    0.000000\n25%      0.000000    0.000000    0.000000\n50%      0.000000    0.000000    0.000000\n75%      1.000000    1.000000    1.000000\nmax      1.000000    1.000000    1.000000",
      "text/html": "<div>\n<style scoped>\n    .dataframe tbody tr th:only-of-type {\n        vertical-align: middle;\n    }\n\n    .dataframe tbody tr th {\n        vertical-align: top;\n    }\n\n    .dataframe thead th {\n        text-align: right;\n    }\n</style>\n<table border=\"1\" class=\"dataframe\">\n  <thead>\n    <tr style=\"text-align: right;\">\n      <th>sex</th>\n      <th>female</th>\n      <th>male</th>\n      <th>non-binary</th>\n    </tr>\n  </thead>\n  <tbody>\n    <tr>\n      <th>count</th>\n      <td>606.000000</td>\n      <td>275.000000</td>\n      <td>5.000000</td>\n    </tr>\n    <tr>\n      <th>mean</th>\n      <td>0.354785</td>\n      <td>0.334545</td>\n      <td>0.400000</td>\n    </tr>\n    <tr>\n      <th>std</th>\n      <td>0.478844</td>\n      <td>0.472692</td>\n      <td>0.547723</td>\n    </tr>\n    <tr>\n      <th>min</th>\n      <td>0.000000</td>\n      <td>0.000000</td>\n      <td>0.000000</td>\n    </tr>\n    <tr>\n      <th>25%</th>\n      <td>0.000000</td>\n      <td>0.000000</td>\n      <td>0.000000</td>\n    </tr>\n    <tr>\n      <th>50%</th>\n      <td>0.000000</td>\n      <td>0.000000</td>\n      <td>0.000000</td>\n    </tr>\n    <tr>\n      <th>75%</th>\n      <td>1.000000</td>\n      <td>1.000000</td>\n      <td>1.000000</td>\n    </tr>\n    <tr>\n      <th>max</th>\n      <td>1.000000</td>\n      <td>1.000000</td>\n      <td>1.000000</td>\n    </tr>\n  </tbody>\n</table>\n</div>"
     },
     "execution_count": 74,
     "metadata": {},
     "output_type": "execute_result"
    }
   ],
   "source": [
    "grouped['job'].describe().transpose()"
   ],
   "metadata": {
    "collapsed": false,
    "ExecuteTime": {
     "end_time": "2024-03-01T07:48:10.986846Z",
     "start_time": "2024-03-01T07:48:10.974069Z"
    }
   },
   "id": "13ab7349d5427c67",
   "execution_count": 74
  }
 ],
 "metadata": {
  "kernelspec": {
   "display_name": "Python 3",
   "language": "python",
   "name": "python3"
  },
  "language_info": {
   "codemirror_mode": {
    "name": "ipython",
    "version": 2
   },
   "file_extension": ".py",
   "mimetype": "text/x-python",
   "name": "python",
   "nbconvert_exporter": "python",
   "pygments_lexer": "ipython2",
   "version": "2.7.6"
  }
 },
 "nbformat": 4,
 "nbformat_minor": 5
}
