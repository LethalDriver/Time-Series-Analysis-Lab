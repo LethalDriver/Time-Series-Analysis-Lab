{
 "cells": [
  {
   "cell_type": "code",
   "execution_count": 1,
   "id": "6d490ebbb6d27b7f",
   "metadata": {
    "ExecuteTime": {
     "end_time": "2024-04-24T17:13:06.429909Z",
     "start_time": "2024-04-24T17:13:06.020618Z"
    },
    "collapsed": false,
    "jupyter": {
     "outputs_hidden": false
    }
   },
   "outputs": [],
   "source": [
    "import numpy as np\n",
    "import pandas as pd\n",
    "from statsmodels.tsa.arima.model import ARIMA"
   ]
  },
  {
   "cell_type": "code",
   "execution_count": 2,
   "id": "a62b5f96050ee647",
   "metadata": {
    "ExecuteTime": {
     "end_time": "2024-04-24T17:13:06.460393Z",
     "start_time": "2024-04-24T17:13:06.430916Z"
    },
    "collapsed": false,
    "jupyter": {
     "outputs_hidden": false
    }
   },
   "outputs": [],
   "source": [
    "def autoregressive_model(burnin, n, c, phi):\n",
    "    p = len(phi)\n",
    "    epsilon = np.random.normal(size=n + burnin)\n",
    "    ar_values = np.zeros(n + burnin)\n",
    "\n",
    "    for t in range(p, n + burnin):\n",
    "        ar_values[t] = c + sum([phi[i] * ar_values[t - i - 1] for i in range(p)]) + epsilon[t]\n",
    "\n",
    "    return ar_values[burnin:]\n",
    "\n",
    "ar2_model = autoregressive_model(100, 5000, 8, [1.3, -0.7])\n",
    "ar2_series = pd.Series(ar2_model)"
   ]
  },
  {
   "cell_type": "code",
   "execution_count": 3,
   "id": "f01e40a66b5bf4b9",
   "metadata": {
    "ExecuteTime": {
     "end_time": "2024-04-24T17:13:09.170648Z",
     "start_time": "2024-04-24T17:13:06.464402Z"
    },
    "collapsed": false,
    "jupyter": {
     "outputs_hidden": false
    }
   },
   "outputs": [
    {
     "name": "stdout",
     "output_type": "stream",
     "text": [
      "The best model is AR(2.0) with AIC = 14245.040255913227\n"
     ]
    }
   ],
   "source": [
    "models = []\n",
    "for p in range(1, 5):\n",
    "    model = ARIMA(ar2_series, order=(p, 0, 0))\n",
    "    model_fit = model.fit()\n",
    "    models.append((p, model_fit.aic))\n",
    "\n",
    "aic_values = pd.DataFrame(models, columns=['p', 'AIC'])\n",
    "\n",
    "best_model = aic_values.loc[aic_values['AIC'].idxmin()]\n",
    "\n",
    "print(f\"The best model is AR({best_model['p']}) with AIC = {best_model['AIC']}\")"
   ]
  },
  {
   "cell_type": "markdown",
   "id": "94821ab2c10b1129",
   "metadata": {
    "collapsed": false,
    "jupyter": {
     "outputs_hidden": false
    }
   },
   "source": [
    "The AIC score is calculated for models of order from 1 to 4, each model's AIC score is recorded in the DataFrame, the best model is the model with the lowest AIC score. In this case, the best model is AR(2) with an AIC score of 14245."
   ]
  },
  {
   "cell_type": "code",
   "execution_count": 4,
   "id": "85f2d733af6678bf",
   "metadata": {
    "ExecuteTime": {
     "end_time": "2024-04-24T17:13:09.217167Z",
     "start_time": "2024-04-24T17:13:09.174645Z"
    },
    "collapsed": false,
    "jupyter": {
     "outputs_hidden": false
    }
   },
   "outputs": [],
   "source": [
    "def moving_average(burnin, n, c, theta):\n",
    "    q = len(theta)\n",
    "    epsilon = np.random.normal(size=n + burnin)\n",
    "    ma_values = np.zeros(n + burnin)\n",
    "\n",
    "    for t in range(q, n + burnin):\n",
    "        ma_values[t] = c + epsilon[t] + sum([theta[i] * epsilon[t - i - 1] for i in range(q)])\n",
    "\n",
    "    return ma_values[burnin:]\n",
    "\n",
    "ma_values_2 = moving_average(100, 5000, 0, [-1, 0.8])\n",
    "ma2_series = pd.Series(ma_values_2)"
   ]
  },
  {
   "cell_type": "markdown",
   "id": "9725c17c90f903c8",
   "metadata": {
    "collapsed": false,
    "jupyter": {
     "outputs_hidden": false
    }
   },
   "source": []
  },
  {
   "cell_type": "code",
   "execution_count": 5,
   "id": "ae00379f1fb02f1",
   "metadata": {
    "ExecuteTime": {
     "end_time": "2024-04-24T17:13:13.667162Z",
     "start_time": "2024-04-24T17:13:09.227162Z"
    },
    "collapsed": false,
    "jupyter": {
     "outputs_hidden": false
    }
   },
   "outputs": [
    {
     "name": "stdout",
     "output_type": "stream",
     "text": [
      "The best model is MA(3.0) with AIC = 14273.43146336835\n"
     ]
    }
   ],
   "source": [
    "models = []\n",
    "for q in range(1, 5):\n",
    "    model = ARIMA(ma2_series, order=(0, 0, q))\n",
    "    model_fit = model.fit()\n",
    "    models.append((q, model_fit.aic))\n",
    "\n",
    "aic_values = pd.DataFrame(models, columns=['q', 'AIC'])\n",
    "\n",
    "best_model = aic_values.loc[aic_values['AIC'].idxmin()]\n",
    "\n",
    "print(f\"The best model is MA({best_model['q']}) with AIC = {best_model['AIC']}\")"
   ]
  },
  {
   "cell_type": "markdown",
   "id": "a88bbcc25953c972",
   "metadata": {
    "collapsed": false,
    "jupyter": {
     "outputs_hidden": false
    }
   },
   "source": [
    "The process is repeated for the MA model, here the best model was found to be MA(3) with an AIC score of 14273."
   ]
  }
 ],
 "metadata": {
  "kernelspec": {
   "display_name": "Python 3 (ipykernel)",
   "language": "python",
   "name": "python3"
  },
  "language_info": {
   "codemirror_mode": {
    "name": "ipython",
    "version": 3
   },
   "file_extension": ".py",
   "mimetype": "text/x-python",
   "name": "python",
   "nbconvert_exporter": "python",
   "pygments_lexer": "ipython3",
   "version": "3.11.5"
  }
 },
 "nbformat": 4,
 "nbformat_minor": 5
}
