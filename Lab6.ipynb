{
 "cells": [
  {
   "cell_type": "code",
   "outputs": [],
   "source": [
    "import numpy as np\n",
    "import pandas as pd\n",
    "from statsmodels.tsa.arima.model import ARIMA"
   ],
   "metadata": {
    "collapsed": false,
    "ExecuteTime": {
     "end_time": "2024-04-19T06:37:25.859534Z",
     "start_time": "2024-04-19T06:37:25.856352Z"
    }
   },
   "id": "6d490ebbb6d27b7f",
   "execution_count": 9
  },
  {
   "cell_type": "code",
   "outputs": [],
   "source": [
    "def autoregressive_model(burnin, n, c, phi):\n",
    "    p = len(phi)\n",
    "    epsilon = np.random.normal(size=n + burnin)\n",
    "    ar_values = np.zeros(n + burnin)\n",
    "\n",
    "    for t in range(p, n + burnin):\n",
    "        ar_values[t] = c + sum([phi[i] * ar_values[t - i - 1] for i in range(p)]) + epsilon[t]\n",
    "\n",
    "    return ar_values[burnin:]\n",
    "\n",
    "ar2_model = autoregressive_model(100, 5000, 8, [1.3, -0.7])\n",
    "ar2_series = pd.Series(ar2_model)"
   ],
   "metadata": {
    "collapsed": false,
    "ExecuteTime": {
     "end_time": "2024-04-19T06:37:25.887681Z",
     "start_time": "2024-04-19T06:37:25.880610Z"
    }
   },
   "id": "a62b5f96050ee647",
   "execution_count": 11
  },
  {
   "cell_type": "code",
   "outputs": [
    {
     "name": "stdout",
     "output_type": "stream",
     "text": [
      "The best model is AR(2.0) with AIC = 13905.455446612228\n"
     ]
    }
   ],
   "source": [
    "models = []\n",
    "for p in range(1, 5):\n",
    "    model = ARIMA(ar2_series, order=(p, 0, 0))\n",
    "    model_fit = model.fit()\n",
    "    models.append((p, model_fit.aic))\n",
    "\n",
    "aic_values = pd.DataFrame(models, columns=['p', 'AIC'])\n",
    "\n",
    "best_model = aic_values.loc[aic_values['AIC'].idxmin()]\n",
    "\n",
    "print(f\"The best model is AR({best_model['p']}) with AIC = {best_model['AIC']}\")"
   ],
   "metadata": {
    "collapsed": false,
    "ExecuteTime": {
     "end_time": "2024-04-19T06:37:53.586939Z",
     "start_time": "2024-04-19T06:37:51.940607Z"
    }
   },
   "id": "f01e40a66b5bf4b9",
   "execution_count": 17
  },
  {
   "cell_type": "code",
   "outputs": [],
   "source": [
    "def moving_average(burnin, n, c, theta):\n",
    "    q = len(theta)\n",
    "    epsilon = np.random.normal(size=n + burnin)\n",
    "    ma_values = np.zeros(n + burnin)\n",
    "\n",
    "    for t in range(q, n + burnin):\n",
    "        ma_values[t] = c + epsilon[t] + sum([theta[i] * epsilon[t - i - 1] for i in range(q)])\n",
    "\n",
    "    return ma_values[burnin:]\n",
    "\n",
    "ma_values_2 = moving_average(100, 5000, 0, [-1, 0.8])\n",
    "ma2_series = pd.Series(ma_values_2)"
   ],
   "metadata": {
    "collapsed": false,
    "ExecuteTime": {
     "end_time": "2024-04-19T06:37:27.516608Z",
     "start_time": "2024-04-19T06:37:27.503656Z"
    }
   },
   "id": "85f2d733af6678bf",
   "execution_count": 13
  },
  {
   "cell_type": "code",
   "outputs": [
    {
     "name": "stdout",
     "output_type": "stream",
     "text": [
      "The best model is MA(2.0) with AIC = 14125.051001086847\n"
     ]
    }
   ],
   "source": [
    "models = []\n",
    "for q in range(1, 5):\n",
    "    model = ARIMA(ma2_series, order=(0, 0, q))\n",
    "    model_fit = model.fit()\n",
    "    models.append((q, model_fit.aic))\n",
    "\n",
    "aic_values = pd.DataFrame(models, columns=['q', 'AIC'])\n",
    "\n",
    "best_model = aic_values.loc[aic_values['AIC'].idxmin()]\n",
    "\n",
    "print(f\"The best model is MA({best_model['q']}) with AIC = {best_model['AIC']}\")"
   ],
   "metadata": {
    "collapsed": false,
    "ExecuteTime": {
     "end_time": "2024-04-19T06:37:30.184208Z",
     "start_time": "2024-04-19T06:37:27.518742Z"
    }
   },
   "id": "ae00379f1fb02f1",
   "execution_count": 14
  }
 ],
 "metadata": {
  "kernelspec": {
   "display_name": "Python 3",
   "language": "python",
   "name": "python3"
  },
  "language_info": {
   "codemirror_mode": {
    "name": "ipython",
    "version": 2
   },
   "file_extension": ".py",
   "mimetype": "text/x-python",
   "name": "python",
   "nbconvert_exporter": "python",
   "pygments_lexer": "ipython2",
   "version": "2.7.6"
  }
 },
 "nbformat": 4,
 "nbformat_minor": 5
}
